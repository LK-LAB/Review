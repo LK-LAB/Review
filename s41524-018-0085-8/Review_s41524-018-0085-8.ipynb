{
 "cells": [
  {
   "cell_type": "code",
   "execution_count": 1,
   "metadata": {},
   "outputs": [],
   "source": [
    "from sklearn.ensemble import RandomForestClassifier\n",
    "from sklearn.model_selection import train_test_split\n",
    "import pandas as pd\n",
    "import numpy as np\n",
    "import matplotlib.pyplot as plt"
   ]
  },
  {
   "cell_type": "code",
   "execution_count": 2,
   "metadata": {},
   "outputs": [],
   "source": [
    "df = pd.read_csv('dataset_s41524-018-0085-8.csv', low_memory=False)"
   ]
  },
  {
   "cell_type": "code",
   "execution_count": 3,
   "metadata": {},
   "outputs": [],
   "source": [
    "feat_labels = df.columns[1:-1]\n"
   ]
  },
  {
   "cell_type": "code",
   "execution_count": 4,
   "metadata": {},
   "outputs": [],
   "source": [
    "forest = RandomForestClassifier(n_estimators=500, random_state=1)"
   ]
  },
  {
   "cell_type": "code",
   "execution_count": 5,
   "metadata": {},
   "outputs": [],
   "source": [
    "X = df.iloc[:, 1:-1]\n",
    "y = df.iloc[:, -1]"
   ]
  },
  {
   "cell_type": "code",
   "execution_count": 6,
   "metadata": {},
   "outputs": [],
   "source": [
    "# T_sep 설정\n",
    "# 논문 첫 부분에서 T_sep = 10(K)로 두고 설명\n",
    "T_sep = 10"
   ]
  },
  {
   "cell_type": "code",
   "execution_count": 7,
   "metadata": {},
   "outputs": [],
   "source": [
    "# T_sep보다 Tc가 높으면 1, 아니면 0\n",
    "y = np.where(y > T_sep, 1, 0)"
   ]
  },
  {
   "cell_type": "code",
   "execution_count": 8,
   "metadata": {},
   "outputs": [],
   "source": [
    "# Dataset에서 85%는 train에, 나머지 15%는 test에 사용하기 위해 분할 \n",
    "X_train, X_test, y_train, y_test = train_test_split(X, y, test_size=0.15, random_state=0, stratify=y)"
   ]
  },
  {
   "cell_type": "code",
   "execution_count": 9,
   "metadata": {},
   "outputs": [
    {
     "data": {
      "text/plain": [
       "RandomForestClassifier(bootstrap=True, class_weight=None, criterion='gini',\n",
       "            max_depth=None, max_features='auto', max_leaf_nodes=None,\n",
       "            min_impurity_decrease=0.0, min_impurity_split=None,\n",
       "            min_samples_leaf=1, min_samples_split=2,\n",
       "            min_weight_fraction_leaf=0.0, n_estimators=500, n_jobs=None,\n",
       "            oob_score=False, random_state=1, verbose=0, warm_start=False)"
      ]
     },
     "execution_count": 9,
     "metadata": {},
     "output_type": "execute_result"
    }
   ],
   "source": [
    "forest.fit(X_train, y_train)"
   ]
  },
  {
   "cell_type": "code",
   "execution_count": 10,
   "metadata": {},
   "outputs": [],
   "source": [
    "importances = forest.feature_importances_"
   ]
  },
  {
   "cell_type": "code",
   "execution_count": 11,
   "metadata": {},
   "outputs": [],
   "source": [
    "indices = np.argsort(importances)[::-1]"
   ]
  },
  {
   "cell_type": "code",
   "execution_count": 12,
   "metadata": {},
   "outputs": [
    {
     "name": "stdout",
     "output_type": "stream",
     "text": [
      " 1) maxdiff_Column                 0.010013\n",
      " 2) maxdiff_MendeleevNumber        0.014064\n",
      " 3) dev_Column                     0.012818\n",
      " 4) MeanIonicChar                  0.011933\n",
      " 5) dev_Electronegativity          0.010533\n",
      " 6) MaxIonicChar                   0.009448\n",
      " 7) dev_GSvolume_pa                0.012816\n",
      " 8) maxdiff_Electronegativity      0.003588\n",
      " 9) dev_MeltingT                   0.010941\n",
      "10) dev_NUnfilled                  0.004171\n",
      "11) mean_NUnfilled                 0.002645\n",
      "12) mean_MeltingT                  0.005823\n",
      "13) dev_CovalentRadius             0.012904\n",
      "14) Comp_L2Norm                    0.027261\n",
      "15) dev_MendeleevNumber            0.013990\n",
      "16) maxdiff_GSvolume_pa            0.003304\n",
      "17) maxdiff_NdValence              0.007677\n",
      "18) mean_AtomicWeight              0.002575\n",
      "19) mean_MendeleevNumber           0.012973\n",
      "20) dev_NdValence                  0.004428\n",
      "21) Comp_L3Norm                    0.011034\n",
      "22) mean_Number                    0.004227\n",
      "23) mean_Electronegativity         0.002057\n",
      "24) dev_SpaceGroupNumber           0.005524\n",
      "25) dev_NdUnfilled                 0.014535\n",
      "26) frac_dValence                  0.008428\n",
      "27) Comp_L5Norm                    0.018509\n",
      "28) dev_NValance                   0.003491\n",
      "29) frac_sValence                  0.006963\n",
      "30) dev_NpValence                  0.007151\n",
      "31) mean_CovalentRadius            0.011379\n",
      "32) mean_GSvolume_pa               0.027390\n",
      "33) mean_Column                    0.026129\n",
      "34) mean_NdValence                 0.001445\n",
      "35) mean_NValance                  0.002802\n",
      "36) dev_AtomicWeight               0.001681\n",
      "37) dev_Number                     0.009808\n",
      "38) mean_SpaceGroupNumber          0.000813\n",
      "39) mean_NdUnfilled                0.009560\n",
      "40) Comp_L7Norm                    0.000930\n",
      "41) frac_pValence                  0.000522\n",
      "42) dev_NpUnfilled                 0.003127\n",
      "43) NComp                          0.011585\n",
      "44) max_GSvolume_pa                0.007397\n",
      "45) min_Electronegativity          0.014444\n",
      "46) mean_Row                       0.002431\n",
      "47) min_CovalentRadius             0.009783\n",
      "48) max_Electronegativity          0.004340\n",
      "49) dev_Row                        0.012545\n",
      "50) Comp_L10Norm                   0.021386\n",
      "51) mean_NsUnfilled                0.023677\n",
      "52) dev_GSmagmom                   0.009756\n",
      "53) mean_NsValence                 0.009908\n",
      "54) dev_NsUnfilled                 0.004503\n",
      "55) maxdiff_MeltingT               0.008682\n",
      "56) dev_NsValence                  0.000767\n",
      "57) mean_NpUnfilled                0.008115\n",
      "58) min_MendeleevNumber            0.000027\n",
      "59) mean_NpValence                 0.000659\n",
      "60) mean_GSmagmom                  0.000568\n",
      "61) maxdiff_CovalentRadius         0.007408\n",
      "62) most_MeltingT                  0.001987\n",
      "63) min_MeltingT                   0.011785\n",
      "64) min_NValance                   0.001399\n",
      "65) most_SpaceGroupNumber          0.000013\n",
      "66) mean_NfUnfilled                0.000660\n",
      "67) maxdiff_SpaceGroupNumber       0.011172\n",
      "68) frac_fValence                  0.013423\n",
      "69) most_Number                    0.012882\n",
      "70) dev_NfUnfilled                 0.002592\n",
      "71) most_AtomicWeight              0.000307\n",
      "72) max_SpaceGroupNumber           0.002445\n",
      "73) mean_NfValence                 0.005185\n",
      "74) max_GSmagmom                   0.001280\n",
      "75) most_Electronegativity         0.004364\n",
      "76) dev_GSbandgap                  0.001160\n",
      "77) maxdiff_AtomicWeight           0.000000\n",
      "78) dev_NfValence                  0.000158\n",
      "79) most_CovalentRadius            0.011087\n",
      "80) max_AtomicWeight               0.002944\n",
      "81) maxdiff_GSmagmom               0.011892\n",
      "82) max_Number                     0.002702\n",
      "83) mean_GSbandgap                 0.006261\n",
      "84) min_GSvolume_pa                0.003202\n",
      "85) most_GSvolume_pa               0.009134\n",
      "86) maxdiff_Number                 0.000727\n",
      "87) max_MeltingT                   0.008433\n",
      "88) max_MendeleevNumber            0.000713\n",
      "89) most_NValance                  0.000032\n",
      "90) most_Row                       0.000659\n",
      "91) maxdiff_NValance               0.008028\n",
      "92) min_Column                     0.002057\n",
      "93) max_NValance                   0.010059\n",
      "94) min_Number                     0.001487\n",
      "95) max_NdValence                  0.000007\n",
      "96) most_MendeleevNumber           0.000886\n",
      "97) maxdiff_NUnfilled              0.010661\n",
      "98) most_NdValence                 0.001840\n",
      "99) min_SpaceGroupNumber           0.012204\n",
      "100) max_CovalentRadius             0.001917\n",
      "101) max_NUnfilled                  0.000157\n",
      "102) maxdiff_NpUnfilled             0.001333\n",
      "103) min_AtomicWeight               0.006081\n",
      "104) maxdiff_NpValence              0.001617\n",
      "105) max_NdUnfilled                 0.005663\n",
      "106) most_NUnfilled                 0.001483\n",
      "107) maxdiff_NdUnfilled             0.000000\n",
      "108) most_Column                    0.000130\n",
      "109) maxdiff_NfUnfilled             0.015824\n",
      "110) maxdiff_GSbandgap              0.002486\n",
      "111) max_NpUnfilled                 0.015905\n",
      "112) max_NfUnfilled                 0.002061\n",
      "113) max_Column                     0.000947\n",
      "114) max_GSbandgap                  0.001876\n",
      "115) CanFormIonic                   0.011484\n",
      "116) max_NpValence                  0.013964\n",
      "117) most_GSbandgap                 0.021699\n",
      "118) most_NdUnfilled                0.009986\n",
      "119) maxdiff_NfValence              0.003851\n",
      "120) most_GSmagmom                  0.003674\n",
      "121) max_NfValence                  0.004096\n",
      "122) min_NUnfilled                  0.001522\n",
      "123) max_Row                        0.004485\n",
      "124) most_NpUnfilled                0.001419\n",
      "125) maxdiff_Row                    0.000012\n",
      "126) maxdiff_NsValence              0.001374\n",
      "127) maxdiff_NsUnfilled             0.007400\n",
      "128) max_NsUnfilled                 0.004187\n",
      "129) most_NpValence                 0.008920\n",
      "130) min_NsValence                  0.004569\n",
      "131) most_NsUnfilled                0.000001\n",
      "132) most_NsValence                 0.001234\n",
      "133) min_Row                        0.010677\n",
      "134) min_NdValence                  0.005915\n",
      "135) most_NfValence                 0.012298\n",
      "136) min_NdUnfilled                 0.005185\n",
      "137) most_NfUnfilled                0.002438\n",
      "138) min_NsUnfilled                 0.006224\n",
      "139) max_NsValence                  0.011868\n",
      "140) min_NpValence                  0.010380\n",
      "141) min_GSbandgap                  0.012162\n",
      "142) min_NpUnfilled                 0.005900\n",
      "143) min_GSmagmom                   0.001405\n",
      "144) min_NfValence                  0.023070\n",
      "145) min_NfUnfilled                 0.025900\n"
     ]
    },
    {
     "data": {
      "image/png": "[encoded data removed]",
      "text/plain": [
       "<Figure size 432x288 with 1 Axes>"
      ]
     },
     "metadata": {
      "needs_background": "light"
     },
     "output_type": "display_data"
    }
   ],
   "source": [
    "for f in range(X_train.shape[1]):\n",
    "    print(\"%2d) %-*s %f\" %(f+1, 30, feat_labels[indices[f]], importances[f]))\n",
    "\n",
    "plt.title('Feature Importance')\n",
    "plt.bar(range(X_train.shape[1]), importances[indices], align='center')\n",
    "plt.xticks(range(X_train.shape[1]), feat_labels[indices], rotation=90)\n",
    "plt.xlim([-1, X_train.shape[1]])\n",
    "plt.tight_layout()\n",
    "plt.show()"
   ]
  },
  {
   "cell_type": "code",
   "execution_count": 13,
   "metadata": {},
   "outputs": [
    {
     "name": "stdout",
     "output_type": "stream",
     "text": [
      "이 임계 조건을 만족하는 샘플의 수:  43\n"
     ]
    }
   ],
   "source": [
    "from sklearn.feature_selection import SelectFromModel\n",
    "\n",
    "sfm = SelectFromModel(forest, threshold=0.01, prefit=True)\n",
    "X_selected = sfm.transform(X_train)\n",
    "print(\"이 임계 조건을 만족하는 샘플의 수: \", X_selected.shape[1])"
   ]
  },
  {
   "cell_type": "code",
   "execution_count": 31,
   "metadata": {},
   "outputs": [
    {
     "name": "stdout",
     "output_type": "stream",
     "text": [
      " 1) maxdiff_Column                 0.027390\n",
      " 2) maxdiff_MendeleevNumber        0.027261\n",
      " 3) dev_Column                     0.026129\n",
      " 4) MeanIonicChar                  0.025900\n",
      " 5) dev_Electronegativity          0.023677\n",
      " 6) MaxIonicChar                   0.023070\n",
      " 7) dev_GSvolume_pa                0.021699\n",
      " 8) maxdiff_Electronegativity      0.021386\n",
      " 9) dev_MeltingT                   0.018509\n",
      "10) dev_NUnfilled                  0.015905\n",
      "11) mean_NUnfilled                 0.015824\n",
      "12) mean_MeltingT                  0.014535\n",
      "13) dev_CovalentRadius             0.014444\n",
      "14) Comp_L2Norm                    0.014064\n",
      "15) dev_MendeleevNumber            0.013990\n",
      "16) maxdiff_GSvolume_pa            0.013964\n",
      "17) maxdiff_NdValence              0.013423\n",
      "18) mean_AtomicWeight              0.012973\n",
      "19) mean_MendeleevNumber           0.012904\n",
      "20) dev_NdValence                  0.012882\n",
      "21) Comp_L3Norm                    0.012818\n",
      "22) mean_Number                    0.012816\n",
      "23) mean_Electronegativity         0.012545\n",
      "24) dev_SpaceGroupNumber           0.012298\n",
      "25) dev_NdUnfilled                 0.012204\n",
      "26) frac_dValence                  0.012162\n",
      "27) Comp_L5Norm                    0.011933\n",
      "28) dev_NValance                   0.011892\n",
      "29) frac_sValence                  0.011868\n",
      "30) dev_NpValence                  0.011785\n",
      "31) mean_CovalentRadius            0.011585\n",
      "32) mean_GSvolume_pa               0.011484\n",
      "33) mean_Column                    0.011379\n",
      "34) mean_NdValence                 0.011172\n",
      "35) mean_NValance                  0.011087\n",
      "36) dev_AtomicWeight               0.011034\n",
      "37) dev_Number                     0.010941\n",
      "38) mean_SpaceGroupNumber          0.010677\n",
      "39) mean_NdUnfilled                0.010661\n",
      "40) Comp_L7Norm                    0.010533\n",
      "41) frac_pValence                  0.010380\n",
      "42) dev_NpUnfilled                 0.010059\n",
      "43) NComp                          0.010013\n"
     ]
    }
   ],
   "source": [
    "for f in range(X_selected.shape[1]):\n",
    "    print(\"%2d) %-*s %f\" %(f+1, 30, feat_labels[indices[f]], importances[indices[f]]))"
   ]
  },
  {
   "cell_type": "markdown",
   "metadata": {},
   "source": [
    "std(column number)      0.026129        (3)\n",
    "\n",
    "std(electronegativity)  0.023677        (5)\n",
    "\n",
    "std(melting T)          0.018509        (9)\n",
    "\n",
    "avg(atomic weight)      0.012973        (18)"
   ]
  },
  {
   "cell_type": "code",
   "execution_count": 15,
   "metadata": {},
   "outputs": [
    {
     "data": {
      "text/plain": [
       "0.9988531288079707"
      ]
     },
     "execution_count": 15,
     "metadata": {},
     "output_type": "execute_result"
    }
   ],
   "source": [
    "# 훈련 데이터 정확도\n",
    "forest.score(X_train, y_train)"
   ]
  },
  {
   "cell_type": "code",
   "execution_count": 16,
   "metadata": {},
   "outputs": [
    {
     "data": {
      "text/plain": [
       "0.9167681688997158"
      ]
     },
     "execution_count": 16,
     "metadata": {},
     "output_type": "execute_result"
    }
   ],
   "source": [
    "# 테스트 데이터 정확도\n",
    "forest.score(X_test, y_test)"
   ]
  },
  {
   "cell_type": "markdown",
   "metadata": {},
   "source": [
    "테스트 세트보다 훈련 세트에서 성능이 높기에 과대적합(overfitting)일 가능성이 큼\n",
    "\n",
    "논문에서는 과대적합에 대한 논란을 피하기 위해 **순차 특성 선택**(sequential feature selection) 알고리즘을 이용하여 관계없는 특성이나 잡음을 제거한 것으로 보임(계산 효율성이 높아지고, 모델의 일반화 오차를 줄일 수 있다)\n",
    "\n",
    "Fig.2(d)"
   ]
  },
  {
   "cell_type": "markdown",
   "metadata": {},
   "source": [
    "참고 : 머신러닝 교과서 with 파이썬, 사이킷런, 텐서플로(길벗, 박해선 옮김)"
   ]
  },
  {
   "cell_type": "code",
   "execution_count": 34,
   "metadata": {},
   "outputs": [
    {
     "name": "stderr",
     "output_type": "stream",
     "text": [
      "C:\\Users\\LKLAB\\AppData\\Local\\Continuum\\anaconda3\\lib\\site-packages\\sklearn\\preprocessing\\data.py:645: DataConversionWarning: Data with input dtype int64, float64 were all converted to float64 by StandardScaler.\n",
      "  return self.partial_fit(X, y)\n",
      "C:\\Users\\LKLAB\\AppData\\Local\\Continuum\\anaconda3\\lib\\site-packages\\sklearn\\base.py:464: DataConversionWarning: Data with input dtype int64, float64 were all converted to float64 by StandardScaler.\n",
      "  return self.fit(X, **fit_params).transform(X)\n",
      "C:\\Users\\LKLAB\\AppData\\Local\\Continuum\\anaconda3\\lib\\site-packages\\ipykernel_launcher.py:9: DataConversionWarning: Data with input dtype int64, float64 were all converted to float64 by StandardScaler.\n",
      "  if __name__ == '__main__':\n"
     ]
    }
   ],
   "source": [
    "from sbs import *\n",
    "import matplotlib.pyplot as plt\n",
    "from sklearn.neighbors import KNeighborsClassifier\n",
    "from sklearn.preprocessing import StandardScaler\n",
    "\n",
    "stdsc = StandardScaler()\n",
    "\n",
    "#X_train_std = stdsc.fit_transform(selected)\n",
    "#X_test_std = stdsc.transform(selected_test)"
   ]
  },
  {
   "cell_type": "code",
   "execution_count": 37,
   "metadata": {},
   "outputs": [],
   "source": [
    "sbs = SBS(forest, k_features=1)\n"
   ]
  },
  {
   "cell_type": "code",
   "execution_count": 55,
   "metadata": {
    "scrolled": true
   },
   "outputs": [
    {
     "name": "stdout",
     "output_type": "stream",
     "text": [
      "calc score\n"
     ]
    },
    {
     "ename": "TypeError",
     "evalue": "'(slice(None, None, None), (0, 1, 2, 3, 4, 5, 6, 7, 8, 9, 10, 11, 12, 13, 14, 15, 16, 17, 18, 19, 20, 21, 22, 23, 24, 25, 26, 27, 28, 29, 30, 31, 32, 33, 34, 35, 36, 37, 38, 39, 40, 41, 42, 43, 44, 45, 46, 47, 48, 49, 50, 51, 52, 53, 54, 55, 56, 57, 58, 59, 60, 61, 62, 63, 64, 65, 66, 67, 68, 69, 70, 71, 72, 73, 74, 75, 76, 77, 78, 79, 80, 81, 82, 83, 84, 85, 86, 87, 88, 89, 90, 91, 92, 93, 94, 95, 96, 97, 98, 99, 100, 101, 102, 103, 104, 105, 106, 107, 108, 109, 110, 111, 112, 113, 114, 115, 116, 117, 118, 119, 120, 121, 122, 123, 124, 125, 126, 127, 128, 129, 130, 131, 132, 133, 134, 135, 136, 137, 138, 139, 140, 141, 142, 143, 144))' is an invalid key",
     "output_type": "error",
     "traceback": [
      "\u001b[1;31m---------------------------------------------------------------------------\u001b[0m",
      "\u001b[1;31mTypeError\u001b[0m                                 Traceback (most recent call last)",
      "\u001b[1;32m<ipython-input-55-9c7a680d1024>\u001b[0m in \u001b[0;36m<module>\u001b[1;34m\u001b[0m\n\u001b[1;32m----> 1\u001b[1;33m \u001b[0msbs\u001b[0m\u001b[1;33m.\u001b[0m\u001b[0mfit\u001b[0m\u001b[1;33m(\u001b[0m\u001b[0mX_train\u001b[0m\u001b[1;33m,\u001b[0m \u001b[0my_train\u001b[0m\u001b[1;33m)\u001b[0m\u001b[1;33m\u001b[0m\u001b[1;33m\u001b[0m\u001b[0m\n\u001b[0m",
      "\u001b[1;32m~\\Desktop\\LAB\\Review\\s41524-018-0085-8\\sbs.py\u001b[0m in \u001b[0;36mfit\u001b[1;34m(self, X, y)\u001b[0m\n\u001b[0;32m     19\u001b[0m         \u001b[0mdim\u001b[0m \u001b[1;33m=\u001b[0m \u001b[0mX_train\u001b[0m\u001b[1;33m.\u001b[0m\u001b[0mshape\u001b[0m\u001b[1;33m[\u001b[0m\u001b[1;36m1\u001b[0m\u001b[1;33m]\u001b[0m\u001b[1;33m\u001b[0m\u001b[1;33m\u001b[0m\u001b[0m\n\u001b[0;32m     20\u001b[0m         \u001b[0mself\u001b[0m\u001b[1;33m.\u001b[0m\u001b[0mindices_\u001b[0m \u001b[1;33m=\u001b[0m \u001b[0mtuple\u001b[0m\u001b[1;33m(\u001b[0m\u001b[0mrange\u001b[0m\u001b[1;33m(\u001b[0m\u001b[0mdim\u001b[0m\u001b[1;33m)\u001b[0m\u001b[1;33m)\u001b[0m\u001b[1;33m\u001b[0m\u001b[1;33m\u001b[0m\u001b[0m\n\u001b[1;32m---> 21\u001b[1;33m         \u001b[0mself\u001b[0m\u001b[1;33m.\u001b[0m\u001b[0msubsets_\u001b[0m \u001b[1;33m=\u001b[0m \u001b[1;33m[\u001b[0m\u001b[0mself\u001b[0m\u001b[1;33m.\u001b[0m\u001b[0mindices_\u001b[0m\u001b[1;33m]\u001b[0m\u001b[1;33m\u001b[0m\u001b[1;33m\u001b[0m\u001b[0m\n\u001b[0m\u001b[0;32m     22\u001b[0m         \u001b[0mscore\u001b[0m \u001b[1;33m=\u001b[0m \u001b[0mself\u001b[0m\u001b[1;33m.\u001b[0m\u001b[0m_calc_score\u001b[0m\u001b[1;33m(\u001b[0m\u001b[0mX_train\u001b[0m\u001b[1;33m,\u001b[0m \u001b[0my_train\u001b[0m\u001b[1;33m,\u001b[0m \u001b[0mX_test\u001b[0m\u001b[1;33m,\u001b[0m \u001b[0my_test\u001b[0m\u001b[1;33m,\u001b[0m \u001b[0mself\u001b[0m\u001b[1;33m.\u001b[0m\u001b[0mindices_\u001b[0m\u001b[1;33m)\u001b[0m\u001b[1;33m\u001b[0m\u001b[1;33m\u001b[0m\u001b[0m\n\u001b[0;32m     23\u001b[0m         \u001b[0mself\u001b[0m\u001b[1;33m.\u001b[0m\u001b[0mscores_\u001b[0m \u001b[1;33m=\u001b[0m \u001b[1;33m[\u001b[0m\u001b[0mscore\u001b[0m\u001b[1;33m]\u001b[0m\u001b[1;33m\u001b[0m\u001b[1;33m\u001b[0m\u001b[0m\n",
      "\u001b[1;32m~\\Desktop\\LAB\\Review\\s41524-018-0085-8\\sbs.py\u001b[0m in \u001b[0;36m_calc_score\u001b[1;34m(self, X_train, y_train, X_test, y_test, indices)\u001b[0m\n\u001b[0;32m     47\u001b[0m \u001b[1;33m\u001b[0m\u001b[0m\n\u001b[0;32m     48\u001b[0m             \u001b[0mbest\u001b[0m \u001b[1;33m=\u001b[0m \u001b[0mnp\u001b[0m\u001b[1;33m.\u001b[0m\u001b[0margmax\u001b[0m\u001b[1;33m(\u001b[0m\u001b[0mscores\u001b[0m\u001b[1;33m)\u001b[0m\u001b[1;33m\u001b[0m\u001b[1;33m\u001b[0m\u001b[0m\n\u001b[1;32m---> 49\u001b[1;33m             \u001b[0mself\u001b[0m\u001b[1;33m.\u001b[0m\u001b[0mindices_\u001b[0m \u001b[1;33m=\u001b[0m \u001b[0msubsets\u001b[0m\u001b[1;33m[\u001b[0m\u001b[0mbest\u001b[0m\u001b[1;33m]\u001b[0m\u001b[1;33m\u001b[0m\u001b[1;33m\u001b[0m\u001b[0m\n\u001b[0m\u001b[0;32m     50\u001b[0m             \u001b[0mself\u001b[0m\u001b[1;33m.\u001b[0m\u001b[0msubsets_\u001b[0m\u001b[1;33m.\u001b[0m\u001b[0mappend\u001b[0m\u001b[1;33m(\u001b[0m\u001b[0mself\u001b[0m\u001b[1;33m.\u001b[0m\u001b[0mindices_\u001b[0m\u001b[1;33m)\u001b[0m\u001b[1;33m\u001b[0m\u001b[1;33m\u001b[0m\u001b[0m\n\u001b[0;32m     51\u001b[0m \u001b[1;33m\u001b[0m\u001b[0m\n",
      "\u001b[1;32m~\\AppData\\Local\\Continuum\\anaconda3\\lib\\site-packages\\pandas\\core\\frame.py\u001b[0m in \u001b[0;36m__getitem__\u001b[1;34m(self, key)\u001b[0m\n\u001b[0;32m   2925\u001b[0m             \u001b[1;32mif\u001b[0m \u001b[0mself\u001b[0m\u001b[1;33m.\u001b[0m\u001b[0mcolumns\u001b[0m\u001b[1;33m.\u001b[0m\u001b[0mnlevels\u001b[0m \u001b[1;33m>\u001b[0m \u001b[1;36m1\u001b[0m\u001b[1;33m:\u001b[0m\u001b[1;33m\u001b[0m\u001b[1;33m\u001b[0m\u001b[0m\n\u001b[0;32m   2926\u001b[0m                 \u001b[1;32mreturn\u001b[0m \u001b[0mself\u001b[0m\u001b[1;33m.\u001b[0m\u001b[0m_getitem_multilevel\u001b[0m\u001b[1;33m(\u001b[0m\u001b[0mkey\u001b[0m\u001b[1;33m)\u001b[0m\u001b[1;33m\u001b[0m\u001b[1;33m\u001b[0m\u001b[0m\n\u001b[1;32m-> 2927\u001b[1;33m             \u001b[0mindexer\u001b[0m \u001b[1;33m=\u001b[0m \u001b[0mself\u001b[0m\u001b[1;33m.\u001b[0m\u001b[0mcolumns\u001b[0m\u001b[1;33m.\u001b[0m\u001b[0mget_loc\u001b[0m\u001b[1;33m(\u001b[0m\u001b[0mkey\u001b[0m\u001b[1;33m)\u001b[0m\u001b[1;33m\u001b[0m\u001b[1;33m\u001b[0m\u001b[0m\n\u001b[0m\u001b[0;32m   2928\u001b[0m             \u001b[1;32mif\u001b[0m \u001b[0mis_integer\u001b[0m\u001b[1;33m(\u001b[0m\u001b[0mindexer\u001b[0m\u001b[1;33m)\u001b[0m\u001b[1;33m:\u001b[0m\u001b[1;33m\u001b[0m\u001b[1;33m\u001b[0m\u001b[0m\n\u001b[0;32m   2929\u001b[0m                 \u001b[0mindexer\u001b[0m \u001b[1;33m=\u001b[0m \u001b[1;33m[\u001b[0m\u001b[0mindexer\u001b[0m\u001b[1;33m]\u001b[0m\u001b[1;33m\u001b[0m\u001b[1;33m\u001b[0m\u001b[0m\n",
      "\u001b[1;32m~\\AppData\\Local\\Continuum\\anaconda3\\lib\\site-packages\\pandas\\core\\indexes\\base.py\u001b[0m in \u001b[0;36mget_loc\u001b[1;34m(self, key, method, tolerance)\u001b[0m\n\u001b[0;32m   2655\u001b[0m                                  'backfill or nearest lookups')\n\u001b[0;32m   2656\u001b[0m             \u001b[1;32mtry\u001b[0m\u001b[1;33m:\u001b[0m\u001b[1;33m\u001b[0m\u001b[1;33m\u001b[0m\u001b[0m\n\u001b[1;32m-> 2657\u001b[1;33m                 \u001b[1;32mreturn\u001b[0m \u001b[0mself\u001b[0m\u001b[1;33m.\u001b[0m\u001b[0m_engine\u001b[0m\u001b[1;33m.\u001b[0m\u001b[0mget_loc\u001b[0m\u001b[1;33m(\u001b[0m\u001b[0mkey\u001b[0m\u001b[1;33m)\u001b[0m\u001b[1;33m\u001b[0m\u001b[1;33m\u001b[0m\u001b[0m\n\u001b[0m\u001b[0;32m   2658\u001b[0m             \u001b[1;32mexcept\u001b[0m \u001b[0mKeyError\u001b[0m\u001b[1;33m:\u001b[0m\u001b[1;33m\u001b[0m\u001b[1;33m\u001b[0m\u001b[0m\n\u001b[0;32m   2659\u001b[0m                 \u001b[1;32mreturn\u001b[0m \u001b[0mself\u001b[0m\u001b[1;33m.\u001b[0m\u001b[0m_engine\u001b[0m\u001b[1;33m.\u001b[0m\u001b[0mget_loc\u001b[0m\u001b[1;33m(\u001b[0m\u001b[0mself\u001b[0m\u001b[1;33m.\u001b[0m\u001b[0m_maybe_cast_indexer\u001b[0m\u001b[1;33m(\u001b[0m\u001b[0mkey\u001b[0m\u001b[1;33m)\u001b[0m\u001b[1;33m)\u001b[0m\u001b[1;33m\u001b[0m\u001b[1;33m\u001b[0m\u001b[0m\n",
      "\u001b[1;32mpandas/_libs/index.pyx\u001b[0m in \u001b[0;36mpandas._libs.index.IndexEngine.get_loc\u001b[1;34m()\u001b[0m\n",
      "\u001b[1;32mpandas/_libs/index.pyx\u001b[0m in \u001b[0;36mpandas._libs.index.IndexEngine.get_loc\u001b[1;34m()\u001b[0m\n",
      "\u001b[1;31mTypeError\u001b[0m: '(slice(None, None, None), (0, 1, 2, 3, 4, 5, 6, 7, 8, 9, 10, 11, 12, 13, 14, 15, 16, 17, 18, 19, 20, 21, 22, 23, 24, 25, 26, 27, 28, 29, 30, 31, 32, 33, 34, 35, 36, 37, 38, 39, 40, 41, 42, 43, 44, 45, 46, 47, 48, 49, 50, 51, 52, 53, 54, 55, 56, 57, 58, 59, 60, 61, 62, 63, 64, 65, 66, 67, 68, 69, 70, 71, 72, 73, 74, 75, 76, 77, 78, 79, 80, 81, 82, 83, 84, 85, 86, 87, 88, 89, 90, 91, 92, 93, 94, 95, 96, 97, 98, 99, 100, 101, 102, 103, 104, 105, 106, 107, 108, 109, 110, 111, 112, 113, 114, 115, 116, 117, 118, 119, 120, 121, 122, 123, 124, 125, 126, 127, 128, 129, 130, 131, 132, 133, 134, 135, 136, 137, 138, 139, 140, 141, 142, 143, 144))' is an invalid key"
     ]
    }
   ],
   "source": [
    "sbs.fit(X_train, y_train)"
   ]
  },
  {
   "cell_type": "code",
   "execution_count": null,
   "metadata": {},
   "outputs": [],
   "source": []
  }
 ],
 "metadata": {
  "kernelspec": {
   "display_name": "Python 3",
   "language": "python",
   "name": "python3"
  }
 },
 "nbformat": 4,
 "nbformat_minor": 2
}
